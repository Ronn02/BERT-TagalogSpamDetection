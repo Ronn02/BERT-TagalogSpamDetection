{
 "cells": [
  {
   "cell_type": "code",
   "execution_count": 2,
   "id": "88db3134-46c3-443c-a67f-b6d031c3db2a",
   "metadata": {},
   "outputs": [],
   "source": [
    "import torch\n",
    "import torch.nn as nn\n",
    "from transformers import AutoModel, AutoTokenizer\n",
    "import pandas as pd\n",
    "from sklearn.model_selection import train_test_split\n",
    "from sklearn.metrics import confusion_matrix, classification_report, accuracy_score, recall_score, precision_score, f1_score\n",
    "from torch.utils.data import DataLoader, TensorDataset\n",
    "import numpy as np\n",
    "import time"
   ]
  },
  {
   "cell_type": "code",
   "execution_count": 3,
   "id": "5e8c162f-75a6-463b-b0a9-39e11822f5fd",
   "metadata": {},
   "outputs": [],
   "source": [
    "# Load the pre-trained Tagalog BERT model and tokenizer\n",
    "model_name = \"jcblaise/bert-tagalog-base-cased\"\n",
    "tokenizer = AutoTokenizer.from_pretrained(model_name)\n",
    "bert_model = AutoModel.from_pretrained(model_name)"
   ]
  },
  {
   "cell_type": "code",
   "execution_count": 4,
   "id": "12507cbd-bdc7-44b6-8c51-59794346280e",
   "metadata": {},
   "outputs": [],
   "source": [
    "# Define a custom classifier on top of BERT\n",
    "class SpamClassifier(nn.Module):\n",
    "    def __init__(self, bert_model, num_classes):\n",
    "        super(SpamClassifier, self).__init__()\n",
    "        self.bert = bert_model\n",
    "        self.dropout = nn.Dropout(0.1)\n",
    "        self.classifier = nn.Linear(bert_model.config.hidden_size, num_classes)\n",
    "\n",
    "    def forward(self, input_ids, attention_mask):\n",
    "        outputs = self.bert(input_ids=input_ids, attention_mask=attention_mask)\n",
    "        pooled_output = outputs.pooler_output\n",
    "        pooled_output = self.dropout(pooled_output)\n",
    "        logits = self.classifier(pooled_output)\n",
    "        return logits"
   ]
  },
  {
   "cell_type": "code",
   "execution_count": 5,
   "id": "7dd05fad-0199-40e6-999a-e82cddff0453",
   "metadata": {},
   "outputs": [],
   "source": [
    "# Load the dataset\n",
    "data = pd.read_csv(\"dataset.csv\")  # Make sure your CSV file has \"text\" and \"label\" columns"
   ]
  },
  {
   "cell_type": "code",
   "execution_count": 6,
   "id": "0857f2b1-b4d9-4f71-be2b-5bd355b5709c",
   "metadata": {},
   "outputs": [
    {
     "data": {
      "text/html": [
       "<div>\n",
       "<style scoped>\n",
       "    .dataframe tbody tr th:only-of-type {\n",
       "        vertical-align: middle;\n",
       "    }\n",
       "\n",
       "    .dataframe tbody tr th {\n",
       "        vertical-align: top;\n",
       "    }\n",
       "\n",
       "    .dataframe thead th {\n",
       "        text-align: right;\n",
       "    }\n",
       "</style>\n",
       "<table border=\"1\" class=\"dataframe\">\n",
       "  <thead>\n",
       "    <tr style=\"text-align: right;\">\n",
       "      <th></th>\n",
       "      <th>label</th>\n",
       "      <th>text</th>\n",
       "    </tr>\n",
       "  </thead>\n",
       "  <tbody>\n",
       "    <tr>\n",
       "      <th>0</th>\n",
       "      <td>1</td>\n",
       "      <td>#1 Sa aming oferta, makakatanggap ka ng 100% l...</td>\n",
       "    </tr>\n",
       "    <tr>\n",
       "      <th>1</th>\n",
       "      <td>1</td>\n",
       "      <td>Mga kasamahan, ang iyong 777 ay maaari nang i-...</td>\n",
       "    </tr>\n",
       "    <tr>\n",
       "      <th>2</th>\n",
       "      <td>1</td>\n",
       "      <td>Congratulations! Ikaw ay isa sa mga napiling 9...</td>\n",
       "    </tr>\n",
       "    <tr>\n",
       "      <th>3</th>\n",
       "      <td>1</td>\n",
       "      <td>Gusto mo bang kumita ng 100% pa? Huwag palampa...</td>\n",
       "    </tr>\n",
       "    <tr>\n",
       "      <th>4</th>\n",
       "      <td>1</td>\n",
       "      <td>Eksklusibong alok para sa iyo: Libreng iPhone ...</td>\n",
       "    </tr>\n",
       "  </tbody>\n",
       "</table>\n",
       "</div>"
      ],
      "text/plain": [
       "   label                                               text\n",
       "0      1  #1 Sa aming oferta, makakatanggap ka ng 100% l...\n",
       "1      1  Mga kasamahan, ang iyong 777 ay maaari nang i-...\n",
       "2      1  Congratulations! Ikaw ay isa sa mga napiling 9...\n",
       "3      1  Gusto mo bang kumita ng 100% pa? Huwag palampa...\n",
       "4      1  Eksklusibong alok para sa iyo: Libreng iPhone ..."
      ]
     },
     "execution_count": 6,
     "metadata": {},
     "output_type": "execute_result"
    }
   ],
   "source": [
    "data.head()"
   ]
  },
  {
   "cell_type": "code",
   "execution_count": 11,
   "id": "dd1836b0-f112-40c8-a88b-58f1f4a4239a",
   "metadata": {},
   "outputs": [],
   "source": [
    "# Tokenize and encode your dataset\n",
    "encoded_data = tokenizer(list(data[\"text\"]), truncation=True, padding=True, return_tensors=\"pt\")\n",
    "input_ids = encoded_data.input_ids\n",
    "attention_mask = encoded_data.attention_mask"
   ]
  },
  {
   "cell_type": "code",
   "execution_count": 12,
   "id": "3345a919-afd1-4b2d-a039-3dcca4d8bd3e",
   "metadata": {},
   "outputs": [],
   "source": [
    "# Convert labels to PyTorch tensors\n",
    "labels = torch.tensor(data[\"label\"].values)"
   ]
  },
  {
   "cell_type": "code",
   "execution_count": 13,
   "id": "8f18965c-0004-4361-aac0-a9a6fe50002e",
   "metadata": {},
   "outputs": [],
   "source": [
    "# Split the dataset into train and validation sets\n",
    "train_inputs, val_inputs, train_labels, val_labels = train_test_split(\n",
    "    input_ids, labels, test_size=0.2, random_state=42\n",
    ")\n",
    "\n",
    "train_attention_mask, val_attention_mask, _, _ = train_test_split(\n",
    "    attention_mask, labels, test_size=0.2, random_state=42\n",
    ")"
   ]
  },
  {
   "cell_type": "code",
   "execution_count": 14,
   "id": "9c594acb-4c4d-42c7-ba97-b167df3474ab",
   "metadata": {},
   "outputs": [],
   "source": [
    "# Create DataLoader for training and validation data\n",
    "train_dataset = TensorDataset(train_inputs, train_attention_mask, train_labels)\n",
    "val_dataset = TensorDataset(val_inputs, val_attention_mask, val_labels)\n",
    "\n",
    "train_dataloader = DataLoader(train_dataset, batch_size=8)\n",
    "val_dataloader = DataLoader(val_dataset, batch_size=8)"
   ]
  },
  {
   "cell_type": "code",
   "execution_count": 15,
   "id": "d1cac8b7-beeb-48d4-91cb-f237dfa2e370",
   "metadata": {},
   "outputs": [],
   "source": [
    "# Define your SpamClassifier model\n",
    "num_classes = 2  # 2 classes: spam and not spam\n",
    "spam_classifier = SpamClassifier(bert_model, num_classes)"
   ]
  },
  {
   "cell_type": "code",
   "execution_count": 16,
   "id": "42f40ef9-2f5b-43a6-b3a4-879cce419a49",
   "metadata": {},
   "outputs": [],
   "source": [
    "# Define loss function and optimizer\n",
    "criterion = nn.CrossEntropyLoss()\n",
    "optimizer = torch.optim.Adam(spam_classifier.parameters(), lr=2e-5)"
   ]
  },
  {
   "cell_type": "code",
   "execution_count": 17,
   "id": "ecaa69dc-f3d7-46cd-8066-5f41df1cd16b",
   "metadata": {},
   "outputs": [],
   "source": [
    "# Training loop\n",
    "num_epochs = 6"
   ]
  },
  {
   "cell_type": "code",
   "execution_count": 18,
   "id": "4b5175ff-8f19-44a1-bbec-9f81882a907e",
   "metadata": {},
   "outputs": [],
   "source": [
    "total_training_time = 0"
   ]
  },
  {
   "cell_type": "code",
   "execution_count": 19,
   "id": "9c6e0d8a-48d7-4fea-bf3e-414df65f6d32",
   "metadata": {},
   "outputs": [
    {
     "name": "stdout",
     "output_type": "stream",
     "text": [
      "Starting Epoch 1\n",
      "Epoch [1/6] - Average Loss: 0.32014664020785627\n",
      "Epoch [1/6] - Training Time: 445.15 seconds\n",
      "Starting Epoch 2\n",
      "Epoch [2/6] - Average Loss: 0.009993328975434316\n",
      "Epoch [2/6] - Training Time: 354.86 seconds\n",
      "Starting Epoch 3\n",
      "Epoch [3/6] - Average Loss: 0.002329936580474865\n",
      "Epoch [3/6] - Training Time: 400.56 seconds\n",
      "Starting Epoch 4\n",
      "Epoch [4/6] - Average Loss: 0.001452005052186073\n",
      "Epoch [4/6] - Training Time: 391.65 seconds\n",
      "Starting Epoch 5\n",
      "Epoch [5/6] - Average Loss: 0.0009139720115196356\n",
      "Epoch [5/6] - Training Time: 397.28 seconds\n",
      "Starting Epoch 6\n",
      "Epoch [6/6] - Average Loss: 0.0006773410900000562\n",
      "Epoch [6/6] - Training Time: 389.31 seconds\n"
     ]
    }
   ],
   "source": [
    "for epoch in range(num_epochs):\n",
    "    print(f\"Starting Epoch {epoch + 1}\")\n",
    "    spam_classifier.train()\n",
    "    \n",
    "    # Initialize a variable to record the start time for the current epoch\n",
    "    epoch_start_time = time.time()\n",
    "    \n",
    "    total_loss = 0  # Track the total loss for the epoch\n",
    "    for batch_idx, batch in enumerate(train_dataloader):\n",
    "        input_ids, attention_mask, labels = batch\n",
    "        optimizer.zero_grad()\n",
    "        outputs = spam_classifier(input_ids, attention_mask)\n",
    "        loss = criterion(outputs, labels)\n",
    "        loss.backward()\n",
    "        optimizer.step()\n",
    "        total_loss += loss.item()\n",
    "\n",
    "        # Print training progress\n",
    "        if (batch_idx + 1) % 100 == 0:\n",
    "            print(f\"Epoch [{epoch + 1}/{num_epochs}], Batch [{batch_idx + 1}/{len(train_dataloader)}], Loss: {loss.item()}\")\n",
    "\n",
    " # Calculate and print the average loss for the epoch\n",
    "    average_loss = total_loss / len(train_dataloader)\n",
    "    print(f\"Epoch [{epoch + 1}/{num_epochs}] - Average Loss: {average_loss}\")\n",
    "    \n",
    "    # Calculate and print the training time for the epoch\n",
    "    epoch_end_time = time.time()\n",
    "    epoch_training_time = epoch_end_time - epoch_start_time\n",
    "    total_training_time += epoch_training_time\n",
    "    print(f\"Epoch [{epoch + 1}/{num_epochs}] - Training Time: {epoch_training_time:.2f} seconds\")"
   ]
  },
  {
   "cell_type": "code",
   "execution_count": 20,
   "id": "1d1ecef4-e151-4696-bec4-c310a5fc9932",
   "metadata": {},
   "outputs": [
    {
     "name": "stdout",
     "output_type": "stream",
     "text": [
      "Total Training Time: 2378.81 seconds\n"
     ]
    }
   ],
   "source": [
    "# Print the total training time\n",
    "print(f\"Total Training Time: {total_training_time:.2f} seconds\")"
   ]
  },
  {
   "cell_type": "code",
   "execution_count": 21,
   "id": "f24b5839-3ab9-428d-96e1-5e01b8a77fb4",
   "metadata": {},
   "outputs": [],
   "source": [
    "# Evaluation\n",
    "spam_classifier.eval()\n",
    "predicted_labels = []\n",
    "true_labels = []\n",
    "\n",
    "for batch in val_dataloader:\n",
    "    input_ids, attention_mask, labels = batch\n",
    "    with torch.no_grad():\n",
    "        outputs = spam_classifier(input_ids, attention_mask)\n",
    "    _, predicted = torch.max(outputs, 1)\n",
    "    predicted_labels.extend(predicted.cpu().numpy())\n",
    "    true_labels.extend(labels.cpu().numpy())"
   ]
  },
  {
   "cell_type": "code",
   "execution_count": 22,
   "id": "05f35ead-9613-4a50-8459-2f67c1968ff5",
   "metadata": {},
   "outputs": [],
   "source": [
    "# Calculate metrics: accuracy, recall, precision, f1-score\n",
    "accuracy = accuracy_score(true_labels, predicted_labels)\n",
    "recall = recall_score(true_labels, predicted_labels)\n",
    "precision = precision_score(true_labels, predicted_labels)\n",
    "f1 = f1_score(true_labels, predicted_labels)"
   ]
  },
  {
   "cell_type": "code",
   "execution_count": 23,
   "id": "714f525c-2c64-4af6-8702-0c63b5d62d50",
   "metadata": {},
   "outputs": [
    {
     "name": "stdout",
     "output_type": "stream",
     "text": [
      "Validation Accuracy: 1.0\n",
      "Validation Recall: 1.0\n",
      "Validation Precision: 1.0\n",
      "Validation F1-score: 1.0\n"
     ]
    }
   ],
   "source": [
    "print(\"Validation Accuracy:\", accuracy)\n",
    "print(\"Validation Recall:\", recall)\n",
    "print(\"Validation Precision:\", precision)\n",
    "print(\"Validation F1-score:\", f1)"
   ]
  },
  {
   "cell_type": "code",
   "execution_count": 24,
   "id": "c67bd8a5-50dd-487f-acb0-c5c25a9ee5b0",
   "metadata": {},
   "outputs": [
    {
     "name": "stdout",
     "output_type": "stream",
     "text": [
      "Confusion Matrix:\n",
      "[[51  0]\n",
      " [ 0 43]]\n"
     ]
    }
   ],
   "source": [
    "# Calculate and print the confusion matrix\n",
    "confusion = confusion_matrix(true_labels, predicted_labels)\n",
    "print(\"Confusion Matrix:\")\n",
    "print(confusion)"
   ]
  },
  {
   "cell_type": "code",
   "execution_count": 25,
   "id": "2a5a9445-ad10-405b-93b0-3903fef65720",
   "metadata": {},
   "outputs": [
    {
     "name": "stdout",
     "output_type": "stream",
     "text": [
      "Classification Report:\n",
      "              precision    recall  f1-score   support\n",
      "\n",
      "           0       1.00      1.00      1.00        51\n",
      "           1       1.00      1.00      1.00        43\n",
      "\n",
      "    accuracy                           1.00        94\n",
      "   macro avg       1.00      1.00      1.00        94\n",
      "weighted avg       1.00      1.00      1.00        94\n",
      "\n"
     ]
    }
   ],
   "source": [
    "# Calculate and print the classification report\n",
    "report = classification_report(true_labels, predicted_labels)\n",
    "print(\"Classification Report:\")\n",
    "print(report)"
   ]
  },
  {
   "cell_type": "code",
   "execution_count": 26,
   "id": "22ff5851-52a8-42b5-a5dd-b60cef9fe583",
   "metadata": {},
   "outputs": [],
   "source": [
    "# Define a function for making predictions\n",
    "def predict_spam(input_text, model, tokenizer):\n",
    "    # Tokenize and encode the input text\n",
    "    encoded_text = tokenizer(input_text, truncation=True, padding=True, return_tensors=\"pt\")\n",
    "    input_ids = encoded_text.input_ids\n",
    "    attention_mask = encoded_text.attention_mask\n",
    "\n",
    "    # Make predictions using the model\n",
    "    model.eval()\n",
    "    with torch.no_grad():\n",
    "        outputs = model(input_ids, attention_mask)\n",
    "    _, predicted = torch.max(outputs, 1)\n",
    "\n",
    "    # Decode the predicted label (0 for not spam, 1 for spam)\n",
    "    if predicted.item() == 0:\n",
    "        prediction = \"Ham\"\n",
    "    else:\n",
    "        prediction = \"Spam\"\n",
    "\n",
    "    return prediction"
   ]
  },
  {
   "cell_type": "code",
   "execution_count": 28,
   "id": "6f978ff4-a941-42b0-a8ae-1c608a56677a",
   "metadata": {
    "scrolled": true
   },
   "outputs": [
    {
     "data": {
      "text/plain": [
       "('tokenizer_directory\\\\tokenizer_config.json',\n",
       " 'tokenizer_directory\\\\special_tokens_map.json',\n",
       " 'tokenizer_directory\\\\vocab.txt',\n",
       " 'tokenizer_directory\\\\added_tokens.json',\n",
       " 'tokenizer_directory\\\\tokenizer.json')"
      ]
     },
     "execution_count": 28,
     "metadata": {},
     "output_type": "execute_result"
    }
   ],
   "source": [
    "# Save the model weights\n",
    "torch.save(spam_classifier.state_dict(), \"spam_classifier_weights.pth\")\n",
    "\n",
    "# Save the tokenizer\n",
    "tokenizer.save_pretrained(\"tokenizer_directory\")"
   ]
  },
  {
   "cell_type": "code",
   "execution_count": 42,
   "id": "14954736-10d2-4843-add3-98c4df5fb02a",
   "metadata": {},
   "outputs": [
    {
     "name": "stdout",
     "output_type": "stream",
     "text": [
      "Predicted Label: Spam\n"
     ]
    }
   ],
   "source": [
    "input_text = \"where did you get that? is it from dog site wwww.cahah.com\"\n",
    "predicted_label = predict_spam(input_text, spam_classifier, tokenizer)\n",
    "print(f\"Predicted Label: {predicted_label}\")"
   ]
  },
  {
   "cell_type": "code",
   "execution_count": 56,
   "id": "fb9e028a-a21e-4738-b5fe-74a58058b3f7",
   "metadata": {},
   "outputs": [
    {
     "name": "stdout",
     "output_type": "stream",
     "text": [
      "Predicted Label: Ham\n"
     ]
    }
   ],
   "source": [
    "input_text = \"san mo nakuha yan? galing ba sa dog site wwww.cahah.com\"\n",
    "predicted_label = predict_spam(input_text, spam_classifier, tokenizer)\n",
    "print(f\"Predicted Label: {predicted_label}\")"
   ]
  },
  {
   "cell_type": "code",
   "execution_count": 58,
   "id": "9f50c5b3-183a-472d-a846-88d10f1379ce",
   "metadata": {},
   "outputs": [
    {
     "name": "stdout",
     "output_type": "stream",
     "text": [
      "Predicted Label: Ham\n"
     ]
    }
   ],
   "source": [
    "input_text = \"where did you get that? open this wwww.cahah.com\"\n",
    "predicted_label = predict_spam(input_text, spam_classifier, tokenizer)\n",
    "print(f\"Predicted Label: {predicted_label}\")"
   ]
  },
  {
   "cell_type": "code",
   "execution_count": 1,
   "id": "71b15884-2cc0-400f-8702-598c71b3e6ad",
   "metadata": {},
   "outputs": [
    {
     "ename": "NameError",
     "evalue": "name 'predict_spam' is not defined",
     "output_type": "error",
     "traceback": [
      "\u001b[1;31m---------------------------------------------------------------------------\u001b[0m",
      "\u001b[1;31mNameError\u001b[0m                                 Traceback (most recent call last)",
      "Cell \u001b[1;32mIn[1], line 2\u001b[0m\n\u001b[0;32m      1\u001b[0m input_text \u001b[38;5;241m=\u001b[39m \u001b[38;5;124m\"\u001b[39m\u001b[38;5;124msan mo nakuha yan? buksan mo to wwww.cahah.com, salamat, punta ko dyan mamaya\u001b[39m\u001b[38;5;124m\"\u001b[39m\n\u001b[1;32m----> 2\u001b[0m predicted_label \u001b[38;5;241m=\u001b[39m \u001b[43mpredict_spam\u001b[49m(input_text, spam_classifier, tokenizer)\n\u001b[0;32m      3\u001b[0m \u001b[38;5;28mprint\u001b[39m(\u001b[38;5;124mf\u001b[39m\u001b[38;5;124m\"\u001b[39m\u001b[38;5;124mPredicted Label: \u001b[39m\u001b[38;5;132;01m{\u001b[39;00mpredicted_label\u001b[38;5;132;01m}\u001b[39;00m\u001b[38;5;124m\"\u001b[39m)\n",
      "\u001b[1;31mNameError\u001b[0m: name 'predict_spam' is not defined"
     ]
    }
   ],
   "source": [
    "input_text = \"san mo nakuha yan? buksan mo to wwww.cahah.com, salamat, punta ko dyan mamaya\"\n",
    "predicted_label = predict_spam(input_text, spam_classifier, tokenizer)\n",
    "print(f\"Predicted Label: {predicted_label}\")"
   ]
  },
  {
   "cell_type": "code",
   "execution_count": null,
   "id": "4f1d6949-f6a4-4396-95d3-49d2baf5f112",
   "metadata": {},
   "outputs": [],
   "source": []
  }
 ],
 "metadata": {
  "kernelspec": {
   "display_name": "Python 3 (ipykernel)",
   "language": "python",
   "name": "python3"
  },
  "language_info": {
   "codemirror_mode": {
    "name": "ipython",
    "version": 3
   },
   "file_extension": ".py",
   "mimetype": "text/x-python",
   "name": "python",
   "nbconvert_exporter": "python",
   "pygments_lexer": "ipython3",
   "version": "3.11.3"
  }
 },
 "nbformat": 4,
 "nbformat_minor": 5
}
